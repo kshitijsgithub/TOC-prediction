{
 "cells": [
  {
   "cell_type": "code",
   "execution_count": null,
   "id": "83958322",
   "metadata": {},
   "outputs": [],
   "source": [
    "#XGBOOST for predicting TOC values "
   ]
  },
  {
   "cell_type": "code",
   "execution_count": 12,
   "id": "75a523bf",
   "metadata": {},
   "outputs": [],
   "source": [
    "#importing the directories \n",
    "import pandas as pd\n",
    "\n",
    "import matplotlib.pyplot as plt\n",
    "from sklearn.model_selection import train_test_split\n",
    "from xgboost import XGBRegressor\n",
    "from sklearn.model_selection import GridSearchCV\n",
    "from sklearn.metrics import r2_score\n",
    "from xgboost import plot_importance\n",
    "from matplotlib import pyplot"
   ]
  },
  {
   "cell_type": "code",
   "execution_count": 5,
   "id": "2d0dc164",
   "metadata": {},
   "outputs": [],
   "source": [
    "#importing Dataset and spliiting\n",
    "d=pd.read_csv(\"C:/Users/kshitij/Desktop/amit saxena/Merged_Data_toc_new - Copy (2).csv\")\n",
    "X=d.drop(columns='TOC (wt%)')\n",
    "y=d['TOC (wt%)']\n",
    "X_train,X_val,y_train,y_val = train_test_split(X,y,test_size=0.25,random_state=0)"
   ]
  },
  {
   "cell_type": "code",
   "execution_count": 7,
   "id": "7f747b33",
   "metadata": {},
   "outputs": [
    {
     "data": {
      "text/html": [
       "<div>\n",
       "<style scoped>\n",
       "    .dataframe tbody tr th:only-of-type {\n",
       "        vertical-align: middle;\n",
       "    }\n",
       "\n",
       "    .dataframe tbody tr th {\n",
       "        vertical-align: top;\n",
       "    }\n",
       "\n",
       "    .dataframe thead th {\n",
       "        text-align: right;\n",
       "    }\n",
       "</style>\n",
       "<table border=\"1\" class=\"dataframe\">\n",
       "  <thead>\n",
       "    <tr style=\"text-align: right;\">\n",
       "      <th></th>\n",
       "      <th>Depth(ft)</th>\n",
       "      <th>Density(g/cm3)</th>\n",
       "      <th>GR(API)</th>\n",
       "      <th>R Ild(ohm)</th>\n",
       "      <th>dt(?sec/ft)</th>\n",
       "    </tr>\n",
       "  </thead>\n",
       "  <tbody>\n",
       "    <tr>\n",
       "      <th>0</th>\n",
       "      <td>7755.3</td>\n",
       "      <td>2.534210</td>\n",
       "      <td>85.641300</td>\n",
       "      <td>46.000300</td>\n",
       "      <td>76.287400</td>\n",
       "    </tr>\n",
       "    <tr>\n",
       "      <th>1</th>\n",
       "      <td>7762.3</td>\n",
       "      <td>2.493953</td>\n",
       "      <td>99.149618</td>\n",
       "      <td>22.838669</td>\n",
       "      <td>85.025160</td>\n",
       "    </tr>\n",
       "    <tr>\n",
       "      <th>2</th>\n",
       "      <td>7763.5</td>\n",
       "      <td>2.487539</td>\n",
       "      <td>118.271812</td>\n",
       "      <td>24.176251</td>\n",
       "      <td>84.523686</td>\n",
       "    </tr>\n",
       "    <tr>\n",
       "      <th>3</th>\n",
       "      <td>7766.8</td>\n",
       "      <td>2.515897</td>\n",
       "      <td>149.019084</td>\n",
       "      <td>24.837110</td>\n",
       "      <td>90.039803</td>\n",
       "    </tr>\n",
       "    <tr>\n",
       "      <th>4</th>\n",
       "      <td>7778.5</td>\n",
       "      <td>2.519956</td>\n",
       "      <td>107.108962</td>\n",
       "      <td>24.630979</td>\n",
       "      <td>85.695262</td>\n",
       "    </tr>\n",
       "    <tr>\n",
       "      <th>...</th>\n",
       "      <td>...</td>\n",
       "      <td>...</td>\n",
       "      <td>...</td>\n",
       "      <td>...</td>\n",
       "      <td>...</td>\n",
       "    </tr>\n",
       "    <tr>\n",
       "      <th>73</th>\n",
       "      <td>8287.0</td>\n",
       "      <td>2.497791</td>\n",
       "      <td>92.056080</td>\n",
       "      <td>113.936839</td>\n",
       "      <td>79.972685</td>\n",
       "    </tr>\n",
       "    <tr>\n",
       "      <th>74</th>\n",
       "      <td>8289.6</td>\n",
       "      <td>2.468742</td>\n",
       "      <td>101.737141</td>\n",
       "      <td>141.056610</td>\n",
       "      <td>81.193827</td>\n",
       "    </tr>\n",
       "    <tr>\n",
       "      <th>75</th>\n",
       "      <td>8306.1</td>\n",
       "      <td>2.567035</td>\n",
       "      <td>90.947177</td>\n",
       "      <td>101.136453</td>\n",
       "      <td>73.506054</td>\n",
       "    </tr>\n",
       "    <tr>\n",
       "      <th>76</th>\n",
       "      <td>8308.8</td>\n",
       "      <td>2.552476</td>\n",
       "      <td>99.206673</td>\n",
       "      <td>127.368593</td>\n",
       "      <td>78.358802</td>\n",
       "    </tr>\n",
       "    <tr>\n",
       "      <th>77</th>\n",
       "      <td>8319.0</td>\n",
       "      <td>2.520628</td>\n",
       "      <td>102.811118</td>\n",
       "      <td>108.690985</td>\n",
       "      <td>74.256333</td>\n",
       "    </tr>\n",
       "  </tbody>\n",
       "</table>\n",
       "<p>78 rows × 5 columns</p>\n",
       "</div>"
      ],
      "text/plain": [
       "    Depth(ft)  Density(g/cm3)     GR(API)  R Ild(ohm)  dt(?sec/ft)\n",
       "0      7755.3        2.534210   85.641300   46.000300    76.287400\n",
       "1      7762.3        2.493953   99.149618   22.838669    85.025160\n",
       "2      7763.5        2.487539  118.271812   24.176251    84.523686\n",
       "3      7766.8        2.515897  149.019084   24.837110    90.039803\n",
       "4      7778.5        2.519956  107.108962   24.630979    85.695262\n",
       "..        ...             ...         ...         ...          ...\n",
       "73     8287.0        2.497791   92.056080  113.936839    79.972685\n",
       "74     8289.6        2.468742  101.737141  141.056610    81.193827\n",
       "75     8306.1        2.567035   90.947177  101.136453    73.506054\n",
       "76     8308.8        2.552476   99.206673  127.368593    78.358802\n",
       "77     8319.0        2.520628  102.811118  108.690985    74.256333\n",
       "\n",
       "[78 rows x 5 columns]"
      ]
     },
     "execution_count": 7,
     "metadata": {},
     "output_type": "execute_result"
    }
   ],
   "source": [
    "X\n"
   ]
  },
  {
   "cell_type": "code",
   "execution_count": 9,
   "id": "117b7946",
   "metadata": {},
   "outputs": [
    {
     "data": {
      "text/plain": [
       "0     3.52\n",
       "1     2.99\n",
       "2     3.12\n",
       "3     3.60\n",
       "4     3.47\n",
       "      ... \n",
       "73    3.89\n",
       "74    4.29\n",
       "75    4.65\n",
       "76    3.95\n",
       "77    3.80\n",
       "Name: TOC (wt%), Length: 78, dtype: float64"
      ]
     },
     "execution_count": 9,
     "metadata": {},
     "output_type": "execute_result"
    }
   ],
   "source": [
    "y"
   ]
  },
  {
   "cell_type": "code",
   "execution_count": null,
   "id": "eecf3659",
   "metadata": {},
   "outputs": [],
   "source": [
    "#Using grid search and cross validation for best hyperparameters for model\n",
    "\n",
    "def hyperParameterTuning(X_train, y_train):\n",
    "    param_tuning = {\n",
    "        'learning_rate': [0.1,0.125,.15],\n",
    "        'max_depth': [4],\n",
    "        'min_child_weight': [1, 3, 5],\n",
    "        'subsample': [0.9, 0.8],\n",
    "        'colsample_bytree': [0.7,0.75],\n",
    "        'n_estimators' : [100,500],\n",
    "        'objective': ['reg:squarederror']\n",
    "    }\n",
    "\n",
    "    xgb_model = XGBRegressor()\n",
    "\n",
    "    gsearch = GridSearchCV(estimator = xgb_model,\n",
    "                           param_grid = param_tuning,                        \n",
    "                           cv = 5,\n",
    "                           n_jobs = -1,\n",
    "                           verbose = 0)\n",
    "\n",
    "    gsearch.fit(X_train,y_train)\n",
    "\n",
    "    return gsearch.best_params_\n",
    "print(hyperParameterTuning(X_train, y_train))"
   ]
  },
  {
   "cell_type": "code",
   "execution_count": 10,
   "id": "f1fac29a",
   "metadata": {},
   "outputs": [
    {
     "name": "stdout",
     "output_type": "stream",
     "text": [
      "[0]\tvalidation_0-rmse:1.48863\tvalidation_1-rmse:1.60291\n",
      "[1]\tvalidation_0-rmse:0.92107\tvalidation_1-rmse:1.00602\n",
      "[2]\tvalidation_0-rmse:0.60620\tvalidation_1-rmse:0.72086\n",
      "[3]\tvalidation_0-rmse:0.42108\tvalidation_1-rmse:0.54452\n",
      "[4]\tvalidation_0-rmse:0.28509\tvalidation_1-rmse:0.42653\n",
      "[5]\tvalidation_0-rmse:0.22287\tvalidation_1-rmse:0.36042\n",
      "[6]\tvalidation_0-rmse:0.16771\tvalidation_1-rmse:0.33047\n",
      "[7]\tvalidation_0-rmse:0.13905\tvalidation_1-rmse:0.31279\n",
      "[8]\tvalidation_0-rmse:0.11496\tvalidation_1-rmse:0.29707\n",
      "[9]\tvalidation_0-rmse:0.09955\tvalidation_1-rmse:0.28711\n",
      "[10]\tvalidation_0-rmse:0.08593\tvalidation_1-rmse:0.27174\n",
      "[11]\tvalidation_0-rmse:0.08094\tvalidation_1-rmse:0.27202\n",
      "[12]\tvalidation_0-rmse:0.07539\tvalidation_1-rmse:0.27298\n",
      "[13]\tvalidation_0-rmse:0.06361\tvalidation_1-rmse:0.26831\n",
      "[14]\tvalidation_0-rmse:0.05789\tvalidation_1-rmse:0.26892\n",
      "[15]\tvalidation_0-rmse:0.05259\tvalidation_1-rmse:0.26446\n",
      "[16]\tvalidation_0-rmse:0.04655\tvalidation_1-rmse:0.26195\n",
      "[17]\tvalidation_0-rmse:0.03984\tvalidation_1-rmse:0.26710\n",
      "[18]\tvalidation_0-rmse:0.03541\tvalidation_1-rmse:0.26619\n",
      "[19]\tvalidation_0-rmse:0.03290\tvalidation_1-rmse:0.26522\n",
      "[20]\tvalidation_0-rmse:0.03127\tvalidation_1-rmse:0.27377\n",
      "[21]\tvalidation_0-rmse:0.02733\tvalidation_1-rmse:0.27262\n",
      "[22]\tvalidation_0-rmse:0.02624\tvalidation_1-rmse:0.27369\n",
      "[23]\tvalidation_0-rmse:0.02220\tvalidation_1-rmse:0.27202\n",
      "[24]\tvalidation_0-rmse:0.02088\tvalidation_1-rmse:0.27187\n",
      "[25]\tvalidation_0-rmse:0.01912\tvalidation_1-rmse:0.27115\n",
      "[26]\tvalidation_0-rmse:0.01782\tvalidation_1-rmse:0.26809\n"
     ]
    },
    {
     "name": "stderr",
     "output_type": "stream",
     "text": [
      "C:\\Users\\pants\\anaconda3\\lib\\site-packages\\xgboost\\data.py:250: FutureWarning: pandas.Int64Index is deprecated and will be removed from pandas in a future version. Use pandas.Index with the appropriate dtype instead.\n",
      "  elif isinstance(data.columns, (pd.Int64Index, pd.RangeIndex)):\n"
     ]
    }
   ],
   "source": [
    "#Creating the Model and fine tuning the parameters manually\n",
    "xgb_model = XGBRegressor(\n",
    "        objective = 'reg:squarederror',\n",
    "        colsample_bytree = 0.7,\n",
    "        learning_rate = 0.4015,\n",
    "        max_depth = 4,\n",
    "        min_child_weight = 1,\n",
    "        max_delta_step=2.978,\n",
    "        colsample_bynode = 0.2,\n",
    "        reg_lambda=0.1902,\n",
    "        random_state=0,\n",
    "        n_estimators = 500,\n",
    "        subsample = 0.813)\n",
    "\n",
    "xgb_model.fit(X_train, y_train, early_stopping_rounds=10, eval_set=[(X_train, y_train),(X_val, y_val)], verbose=True)\n",
    "\n",
    "y_pred_xgb = xgb_model.predict(X_val)"
   ]
  },
  {
   "cell_type": "code",
   "execution_count": 11,
   "id": "c1b6999b",
   "metadata": {},
   "outputs": [
    {
     "name": "stdout",
     "output_type": "stream",
     "text": [
      "0.9444767123644597\n",
      "0    0.899795\n",
      "dtype: float32\n"
     ]
    }
   ],
   "source": [
    "#Printing the R^2 and Mean Absolute Difference\n",
    "r2val=r2_score(y_val,y_pred_xgb)\n",
    "print(r2val)\n",
    "print(pd.DataFrame(y_pred_xgb).mad())"
   ]
  },
  {
   "cell_type": "code",
   "execution_count": 13,
   "id": "5fa1f1b1",
   "metadata": {},
   "outputs": [
    {
     "data": {
      "image/png": "[encoded data removed]",
      "text/plain": [
       "<Figure size 432x288 with 1 Axes>"
      ]
     },
     "metadata": {
      "needs_background": "light"
     },
     "output_type": "display_data"
    }
   ],
   "source": [
    "#Plotting \n",
    "\n",
    "result=xgb_model.evals_result()\n",
    "pyplot.plot(result['validation_0']['rmse'], label='train')\n",
    "pyplot.plot(result['validation_1']['rmse'], label='test')\n",
    "pyplot.xlabel(\"epochs\")\n",
    "pyplot.ylabel(\"Loss(rmse)\")\n",
    "# show the legend\n",
    "pyplot.legend()\n",
    "pyplot.show()"
   ]
  },
  {
   "cell_type": "code",
   "execution_count": null,
   "id": "f0881023",
   "metadata": {},
   "outputs": [],
   "source": []
  }
 ],
 "metadata": {
  "kernelspec": {
   "display_name": "Python 3 (ipykernel)",
   "language": "python",
   "name": "python3"
  },
  "language_info": {
   "codemirror_mode": {
    "name": "ipython",
    "version": 3
   },
   "file_extension": ".py",
   "mimetype": "text/x-python",
   "name": "python",
   "nbconvert_exporter": "python",
   "pygments_lexer": "ipython3",
   "version": "3.9.12"
  }
 },
 "nbformat": 4,
 "nbformat_minor": 5
}
